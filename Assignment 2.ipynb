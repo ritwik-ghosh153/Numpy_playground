{
 "cells": [
  {
   "cell_type": "code",
   "execution_count": 83,
   "metadata": {
    "collapsed": true
   },
   "outputs": [],
   "source": [
    "import cv2"
   ]
  },
  {
   "cell_type": "code",
   "execution_count": 84,
   "metadata": {},
   "outputs": [
    {
     "data": {
      "text/plain": [
       "array([[187, 158, 104, 121, 143],\n",
       "       [198, 125, 255, 255, 147],\n",
       "       [209, 134, 255,  97, 182]], dtype=uint8)"
      ]
     },
     "execution_count": 84,
     "metadata": {},
     "output_type": "execute_result"
    }
   ],
   "source": [
    "im_g=cv2.imread(\"smallgray.png\",0)\n",
    "im_g"
   ]
  },
  {
   "cell_type": "code",
   "execution_count": 85,
   "metadata": {
    "collapsed": true
   },
   "outputs": [],
   "source": [
    "import numpy as np"
   ]
  },
  {
   "cell_type": "code",
   "execution_count": 86,
   "metadata": {
    "collapsed": true
   },
   "outputs": [],
   "source": [
    "a=np.arange(0,40)"
   ]
  },
  {
   "cell_type": "code",
   "execution_count": 87,
   "metadata": {},
   "outputs": [
    {
     "data": {
      "text/plain": [
       "array([ 0,  1,  2,  3,  4,  5,  6,  7,  8,  9, 10, 11, 12, 13, 14, 15, 16,\n",
       "       17, 18, 19, 20, 21, 22, 23, 24, 25, 26, 27, 28, 29, 30, 31, 32, 33,\n",
       "       34, 35, 36, 37, 38, 39])"
      ]
     },
     "execution_count": 87,
     "metadata": {},
     "output_type": "execute_result"
    }
   ],
   "source": [
    "a"
   ]
  },
  {
   "cell_type": "code",
   "execution_count": 90,
   "metadata": {},
   "outputs": [
    {
     "data": {
      "text/plain": [
       "array([[ 0,  1,  2,  3,  4],\n",
       "       [ 5,  6,  7,  8,  9],\n",
       "       [10, 11, 12, 13, 14],\n",
       "       [15, 16, 17, 18, 19],\n",
       "       [20, 21, 22, 23, 24],\n",
       "       [25, 26, 27, 28, 29],\n",
       "       [30, 31, 32, 33, 34],\n",
       "       [35, 36, 37, 38, 39]])"
      ]
     },
     "execution_count": 90,
     "metadata": {},
     "output_type": "execute_result"
    }
   ],
   "source": [
    "a=a.reshape(8,5)\n",
    "a"
   ]
  },
  {
   "cell_type": "code",
   "execution_count": 89,
   "metadata": {},
   "outputs": [
    {
     "name": "stdout",
     "output_type": "stream",
     "text": [
      "[ 0  5 10 15 20 25 30 35]\n",
      "[ 2  7 12 17 22 27 32 37]\n",
      "[ 4  9 14 19 24 29 34 39]\n"
     ]
    }
   ],
   "source": [
    "i=0\n",
    "while i<a.shape[1]:\n",
    "    print(a[:,i])\n",
    "    i+=2"
   ]
  },
  {
   "cell_type": "code",
   "execution_count": null,
   "metadata": {
    "collapsed": true
   },
   "outputs": [],
   "source": []
  },
  {
   "cell_type": "code",
   "execution_count": 161,
   "metadata": {
    "scrolled": true
   },
   "outputs": [],
   "source": [
    "i=0\n",
    "b=np.empty(0,dtype=int)\n",
    "while i<a.shape[1]:\n",
    "    b=np.hstack((b,a[:,i]))\n",
    "    i+=2\n",
    "b=b.reshape(int((a.shape[1]+1)/2),a.shape[0])"
   ]
  },
  {
   "cell_type": "code",
   "execution_count": 163,
   "metadata": {},
   "outputs": [
    {
     "data": {
      "text/plain": [
       "array([[ 0,  2,  4],\n",
       "       [15, 17, 19],\n",
       "       [30, 32, 34]])"
      ]
     },
     "execution_count": 163,
     "metadata": {},
     "output_type": "execute_result"
    }
   ],
   "source": [
    "i=0\n",
    "c=np.array([],dtype=int)\n",
    "while i<b.shape[1]:\n",
    "    c=np.hstack((c,b[:,i]))\n",
    "    i+=3\n",
    "c=c.reshape(b.shape[0],int((b.shape[1]+1)/3))\n",
    "c"
   ]
  },
  {
   "cell_type": "code",
   "execution_count": null,
   "metadata": {
    "collapsed": true
   },
   "outputs": [],
   "source": []
  },
  {
   "cell_type": "code",
   "execution_count": 27,
   "metadata": {},
   "outputs": [],
   "source": [
    "def nth(arr, n):\n",
    "    if(n>len(arr) or n<1):\n",
    "        print(\"There is no largest element with rank\",n)\n",
    "        return\n",
    "    g=arr[0]\n",
    "    b=g\n",
    "    low=arr[0]\n",
    "    for i in arr:\n",
    "        if b<i:\n",
    "            b=i\n",
    "        if low>i:\n",
    "            low=i\n",
    "    if n==1:\n",
    "        print(b)\n",
    "    else:\n",
    "        while n!=1:\n",
    "            g=low\n",
    "            for i in arr:\n",
    "                if g<i and i<b:\n",
    "                    g=i\n",
    "            n-=1\n",
    "            b=g\n",
    "        print(g)"
   ]
  },
  {
   "cell_type": "code",
   "execution_count": 28,
   "metadata": {},
   "outputs": [
    {
     "name": "stdout",
     "output_type": "stream",
     "text": [
      "1\n"
     ]
    }
   ],
   "source": [
    "arr=np.asarray([12,34,40,7,1,0])\n",
    "nth(arr,5)"
   ]
  },
  {
   "cell_type": "code",
   "execution_count": null,
   "metadata": {
    "collapsed": true
   },
   "outputs": [],
   "source": []
  },
  {
   "cell_type": "code",
   "execution_count": 40,
   "metadata": {},
   "outputs": [
    {
     "data": {
      "text/plain": [
       "array([[7770, 2973, 4247, 7038, 9697],\n",
       "       [ 546, 7326, 6277, 9943, 2505]])"
      ]
     },
     "execution_count": 40,
     "metadata": {},
     "output_type": "execute_result"
    }
   ],
   "source": [
    "arr2=np.random.randint(low=1, high=10000, size=10).reshape(2,5)\n",
    "arr2"
   ]
  },
  {
   "cell_type": "code",
   "execution_count": 45,
   "metadata": {},
   "outputs": [],
   "source": [
    "def normalise(arr):\n",
    "    high=arr.flatten()[0]\n",
    "    low=high\n",
    "    new=np.array([])\n",
    "    for i in arr.flatten():\n",
    "        if high<i:\n",
    "            high=i\n",
    "        if low>i:\n",
    "            low=i\n",
    "    step=high-low\n",
    "    for i in arr.flatten():\n",
    "        new=np.append(new,(i-low)/step)\n",
    "    new=new.reshape(arr.shape)\n",
    "    return new"
   ]
  },
  {
   "cell_type": "code",
   "execution_count": 46,
   "metadata": {},
   "outputs": [
    {
     "data": {
      "text/plain": [
       "array([[ 0.76875599,  0.25827392,  0.3938491 ,  0.69085878,  0.97382143],\n",
       "       [ 0.        ,  0.72150686,  0.60987549,  1.        ,  0.20847079]])"
      ]
     },
     "execution_count": 46,
     "metadata": {},
     "output_type": "execute_result"
    }
   ],
   "source": [
    "normalise(arr2)"
   ]
  },
  {
   "cell_type": "code",
   "execution_count": null,
   "metadata": {
    "collapsed": true
   },
   "outputs": [],
   "source": []
  },
  {
   "cell_type": "code",
   "execution_count": 75,
   "metadata": {},
   "outputs": [
    {
     "data": {
      "text/plain": [
       "array([  1.,   2.,   3.,   4.,   4.,   5.,  nan])"
      ]
     },
     "execution_count": 75,
     "metadata": {},
     "output_type": "execute_result"
    }
   ],
   "source": [
    "a_missing=np.array([1,2,3,4,4,5,np.nan])\n",
    "a_missing"
   ]
  },
  {
   "cell_type": "code",
   "execution_count": 78,
   "metadata": {},
   "outputs": [],
   "source": [
    "def check_missing(a_missing):\n",
    "    flag=np.isnan(a_missing).any()\n",
    "    if flag:\n",
    "        print(\"Array has missing values\")\n",
    "    else:\n",
    "        print(\"Array has no missing values\")"
   ]
  },
  {
   "cell_type": "code",
   "execution_count": 81,
   "metadata": {},
   "outputs": [
    {
     "name": "stdout",
     "output_type": "stream",
     "text": [
      "Array has missing values\n"
     ]
    }
   ],
   "source": [
    "check_missing(a_missing)"
   ]
  },
  {
   "cell_type": "code",
   "execution_count": null,
   "metadata": {
    "collapsed": true
   },
   "outputs": [],
   "source": []
  }
 ],
 "metadata": {
  "kernelspec": {
   "display_name": "Python [conda env:anaconda]",
   "language": "python",
   "name": "conda-env-anaconda-py"
  },
  "language_info": {
   "codemirror_mode": {
    "name": "ipython",
    "version": 3
   },
   "file_extension": ".py",
   "mimetype": "text/x-python",
   "name": "python",
   "nbconvert_exporter": "python",
   "pygments_lexer": "ipython3",
   "version": "3.5.3"
  }
 },
 "nbformat": 4,
 "nbformat_minor": 2
}
