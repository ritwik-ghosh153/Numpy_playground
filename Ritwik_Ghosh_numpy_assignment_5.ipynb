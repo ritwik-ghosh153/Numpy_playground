{
 "cells": [
  {
   "cell_type": "markdown",
   "metadata": {
    "colab_type": "text",
    "id": "HHEofVKhbKOJ"
   },
   "source": [
    "Let me tell you a story, Once a statistician was lost in a jungle. It was pitch dark. Nothing could be seen around. The statistician was afraid but he kept moving. Suddenly, he saw a small house. He went there and knocked on the door. Someone opened the door. \n",
    "\n",
    "Guess what was the first question that came out of the statistician's mouth...\n",
    "\n",
    "Bhaiya, yahan kahin aas paas Normal Distribution milega?\n",
    "\n",
    "That's how important Normal distribution is in a Statistician's (read, Data Analyst) life. Whenever a statistician is lost in an analysis, his/her first response is to reach or find a normal distribution somewhere. \n",
    "\n",
    "![alt text](https://media2.giphy.com/media/maIEBUU5OmrMA/source.gif)\n",
    "\n",
    "Although, we are going to study Normal Distribution in future episodes:). Today I want you to get a feel of the Normal/Gaussian Distribution."
   ]
  },
  {
   "cell_type": "markdown",
   "metadata": {
    "colab_type": "text",
    "id": "udWaNZcNehRo"
   },
   "source": [
    "In a normal distribution, there are 2 things of utmost importance, Mean and the Standard Deviation. ([Read more about Normal Distribution here](https://en.wikipedia.org/wiki/Normal_distribution)).\n",
    "\n",
    "I want you to create a function which takes 2 inputs - the Mean and Standard Deviation and prints out the graph of the Normal Distribution (also known as PDF, you will find the formula in the wiki article). Assume x is given and calculate y using the pdf formula. The resultant graph would look something like this (any one of them):!\n",
    "\n",
    "![](https://upload.wikimedia.org/wikipedia/commons/thumb/7/74/Normal_Distribution_PDF.svg/340px-Normal_Distribution_PDF.svg.png)"
   ]
  },
  {
   "cell_type": "code",
   "execution_count": 3,
   "metadata": {},
   "outputs": [
    {
     "data": {
      "text/plain": [
       "2.718281828459045"
      ]
     },
     "execution_count": 3,
     "metadata": {},
     "output_type": "execute_result"
    }
   ],
   "source": [
    "np.e"
   ]
  },
  {
   "cell_type": "code",
   "execution_count": 2,
   "metadata": {},
   "outputs": [],
   "source": [
    "import numpy as np\n",
    "import matplotlib.pyplot as plt\n",
    "def print_pdf(mean, SD):\n",
    "    x=np.linspace(-10,10,100)\n",
    "    y=1/(SD*np.sqrt(2*np.pi))*(np.exp(-np.abs((x-mean)**2)/2*SD*SD))\n",
    "    #y=normal(2,-2,0.7,x)\n",
    "    plt.plot(x,y)\n",
    "    plt.xlabel('x')\n",
    "    plt.ylabel('f(x)') \n",
    "    plt.show()"
   ]
  },
  {
   "cell_type": "code",
   "execution_count": 3,
   "metadata": {},
   "outputs": [
    {
     "data": {
      "image/png": "[encoded data removed]",
      "text/plain": [
       "<matplotlib.figure.Figure at 0x10f5fb6a0>"
      ]
     },
     "metadata": {},
     "output_type": "display_data"
    }
   ],
   "source": [
    "print_pdf(-2,0.7)"
   ]
  },
  {
   "cell_type": "code",
   "execution_count": 5,
   "metadata": {
    "colab": {},
    "colab_type": "code",
    "collapsed": true,
    "id": "fhPRbXGiXaoK"
   },
   "outputs": [],
   "source": [
    "import numpy as np\n",
    "import matplotlib.pyplot as plt\n",
    "# Write function code here\n",
    "def plotter(meanValue,sdValue):\n",
    "    x=np.linspace(-10,10,100)\n",
    "    y=1/(sdValue*np.sqrt(2*np.pi))*(np.exp(-np.abs((x-meanValue)**2)/2*sdValue*sdValue))\n",
    "    plt.plot(x,y)\n",
    "    plt.xlabel('x')\n",
    "    plt.ylabel('f(x)') \n",
    "    plt.show()"
   ]
  },
  {
   "cell_type": "code",
   "execution_count": 6,
   "metadata": {},
   "outputs": [
    {
     "data": {
      "image/png": "[encoded data removed]",
      "text/plain": [
       "<matplotlib.figure.Figure at 0x117605f60>"
      ]
     },
     "metadata": {},
     "output_type": "display_data"
    }
   ],
   "source": [
    "plotter(-2,0.7)"
   ]
  },
  {
   "cell_type": "code",
   "execution_count": null,
   "metadata": {
    "collapsed": true
   },
   "outputs": [],
   "source": []
  },
  {
   "cell_type": "code",
   "execution_count": 203,
   "metadata": {},
   "outputs": [],
   "source": [
    "arr1=np.arange(30).reshape(5,6)\n",
    "arr2=np.arange(6).reshape(2,3)"
   ]
  },
  {
   "cell_type": "code",
   "execution_count": 204,
   "metadata": {},
   "outputs": [
    {
     "ename": "ValueError",
     "evalue": "operands could not be broadcast together with shapes (5,6) (2,3) ",
     "output_type": "error",
     "traceback": [
      "\u001b[0;31m---------------------------------------------------------------------------\u001b[0m",
      "\u001b[0;31mValueError\u001b[0m                                Traceback (most recent call last)",
      "\u001b[0;32m<ipython-input-204-d4c1c7a3a98c>\u001b[0m in \u001b[0;36m<module>\u001b[0;34m()\u001b[0m\n\u001b[0;32m----> 1\u001b[0;31m \u001b[0marr1\u001b[0m\u001b[0;34m+\u001b[0m\u001b[0marr2\u001b[0m\u001b[0;34m\u001b[0m\u001b[0m\n\u001b[0m",
      "\u001b[0;31mValueError\u001b[0m: operands could not be broadcast together with shapes (5,6) (2,3) "
     ]
    }
   ],
   "source": [
    "arr1+arr2"
   ]
  },
  {
   "cell_type": "code",
   "execution_count": null,
   "metadata": {
    "collapsed": true
   },
   "outputs": [],
   "source": []
  },
  {
   "cell_type": "code",
   "execution_count": 196,
   "metadata": {},
   "outputs": [
    {
     "name": "stdout",
     "output_type": "stream",
     "text": [
      "[1 1]\n",
      "[1 6]\n"
     ]
    }
   ],
   "source": [
    "shape1=np.array(arr1.shape)\n",
    "shape2=np.array(arr2.shape)\n",
    "print(shape1)\n",
    "print(shape2)"
   ]
  },
  {
   "cell_type": "code",
   "execution_count": 139,
   "metadata": {},
   "outputs": [
    {
     "ename": "SyntaxError",
     "evalue": "invalid syntax (<ipython-input-139-08aac2af305f>, line 4)",
     "output_type": "error",
     "traceback": [
      "\u001b[0;36m  File \u001b[0;32m\"<ipython-input-139-08aac2af305f>\"\u001b[0;36m, line \u001b[0;32m4\u001b[0m\n\u001b[0;31m    for i in range(len(shape:\u001b[0m\n\u001b[0m                            ^\u001b[0m\n\u001b[0;31mSyntaxError\u001b[0m\u001b[0;31m:\u001b[0m invalid syntax\n"
     ]
    }
   ],
   "source": [
    "if any(np.where(shape1==1)):\n",
    "    index=np.where(shape1==1)[0]\n",
    "    flag=True\n",
    "    for i in range(len(shape:\n",
    "        if i==1:\n",
    "            "
   ]
  },
  {
   "cell_type": "code",
   "execution_count": null,
   "metadata": {
    "collapsed": true
   },
   "outputs": [],
   "source": []
  },
  {
   "cell_type": "code",
   "execution_count": 164,
   "metadata": {},
   "outputs": [
    {
     "data": {
      "text/plain": [
       "(array([1]),)"
      ]
     },
     "execution_count": 164,
     "metadata": {},
     "output_type": "execute_result"
    }
   ],
   "source": [
    "a=np.where(shape2==1)\n",
    "a"
   ]
  },
  {
   "cell_type": "code",
   "execution_count": null,
   "metadata": {
    "collapsed": true
   },
   "outputs": [],
   "source": []
  },
  {
   "cell_type": "code",
   "execution_count": 194,
   "metadata": {},
   "outputs": [],
   "source": [
    "def possibility(shape1,shape2):\n",
    "    flag=True\n",
    "    if all(shape1==1) or all(shape2==1):\n",
    "        print(\"possible\")\n",
    "        return(True)\n",
    "    if ((1 in shape1) & (1 in shape2)):\n",
    "        print(\"possible\")\n",
    "        return(True)\n",
    "    if 1 in shape1:\n",
    "        index=np.where(shape1==1)[0][0]\n",
    "        check=0\n",
    "        if index==0:\n",
    "            check=1\n",
    "        if shape2[check]!=shape1[check]:\n",
    "            print(\"not possible\");\n",
    "            return(False)\n",
    "        else:\n",
    "            print(\"possible\")\n",
    "            return(True)\n",
    "    if 1 in shape2:\n",
    "        index=np.where(shape2==1)[0][0]\n",
    "        check=0\n",
    "        if index==0:\n",
    "            check=1\n",
    "        if shape2[check]!=shape1[check]:\n",
    "            print(\"yes possible\");\n",
    "            return(False)\n",
    "        else:\n",
    "            print(\"possible\")\n",
    "            return(True)\n",
    "    else:\n",
    "        print(\"not possible\");\n",
    "    return(False)"
   ]
  },
  {
   "cell_type": "code",
   "execution_count": 195,
   "metadata": {},
   "outputs": [
    {
     "name": "stdout",
     "output_type": "stream",
     "text": [
      "yes possible\n",
      "False\n"
     ]
    }
   ],
   "source": [
    "val=possibility(shape1,shape2)\n",
    "print(val)"
   ]
  },
  {
   "cell_type": "raw",
   "metadata": {},
   "source": []
  },
  {
   "cell_type": "code",
   "execution_count": 229,
   "metadata": {},
   "outputs": [],
   "source": [
    "def hoga_ki_nahi(arr1,arr2) :\n",
    "    if(arr1.ndim == 1 or arr2.ndim ==1) :\n",
    "        if((arr1.ndim == 1 and (arr1.shape[0] == arr2.shape[0] or arr1.shape[0] == arr2.shape[1])) or (arr2.ndim == 1 and (arr2.shape[0] == arr1.shape[0] or arr2.shape[0] == arr1.shape[1]))) :\n",
    "            return \"Hoga\"\n",
    "        else :\n",
    "            return \"Nahi Hoga\"\n",
    "    else :\n",
    "        x = arr1.shape[0]\n",
    "        y = arr1.shape[1]\n",
    "        m = arr2.shape[0]\n",
    "        n = arr2.shape[1]\n",
    "        if(x == m and y == n) :\n",
    "            return \"Ho jaayega\"\n",
    "        elif((x == 1 and y == n) or (y == 1 and x == m) or (m == 1 and n == y) or (n == 1 and x == m)):\n",
    "            return \"Ho jaayega\"\n",
    "        elif((x == 1 and n == 1) or (y == 1 and m == 1)):\n",
    "            return \"Ho jaayega\"\n",
    "        elif ((x==1 and y==1) or (m==1 or n==1)):\n",
    "            return \"Ho jaayega\"\n",
    "        else:\n",
    "            return \"Nahi ho paayega\""
   ]
  },
  {
   "cell_type": "code",
   "execution_count": 230,
   "metadata": {},
   "outputs": [
    {
     "data": {
      "text/plain": [
       "'Ho jaayega'"
      ]
     },
     "execution_count": 230,
     "metadata": {},
     "output_type": "execute_result"
    }
   ],
   "source": [
    "# Test your function here\n",
    "arr1 = np.arange(1).reshape(1,1)\n",
    "arr2 = np.arange(24).reshape(4,6)\n",
    "hoga_ki_nahi(arr1, arr2)"
   ]
  },
  {
   "cell_type": "code",
   "execution_count": null,
   "metadata": {
    "collapsed": true
   },
   "outputs": [],
   "source": []
  },
  {
   "cell_type": "code",
   "execution_count": 0,
   "metadata": {
    "colab": {},
    "colab_type": "code",
    "collapsed": true,
    "id": "p9x7LVMBgs43"
   },
   "outputs": [],
   "source": [
    "# You have write a function which takes 2 numpy array as input and returns \"Hoga\" or \"Nahi Hoga\" \n",
    "# depending on if broadcasting is possible on those two arrays"
   ]
  },
  {
   "cell_type": "code",
   "execution_count": 0,
   "metadata": {
    "colab": {},
    "colab_type": "code",
    "collapsed": true,
    "id": "1G3RYovHJRYj"
   },
   "outputs": [],
   "source": [
    "# Write your logic here\n",
    "def hoga_ki_nahi(arr1,arr2):\n",
    "  return #\"Hoga\"/\"Nahi Hoga\""
   ]
  },
  {
   "cell_type": "code",
   "execution_count": 0,
   "metadata": {
    "colab": {},
    "colab_type": "code",
    "collapsed": true,
    "id": "HxyIWB__JUJQ"
   },
   "outputs": [],
   "source": [
    "# Test your function here"
   ]
  }
 ],
 "metadata": {
  "colab": {
   "name": "Ritwik Ghosh - numpy-assignment-5.ipynb",
   "provenance": []
  },
  "kernelspec": {
   "display_name": "Python [default]",
   "language": "python",
   "name": "python3"
  },
  "language_info": {
   "codemirror_mode": {
    "name": "ipython",
    "version": 3
   },
   "file_extension": ".py",
   "mimetype": "text/x-python",
   "name": "python",
   "nbconvert_exporter": "python",
   "pygments_lexer": "ipython3",
   "version": "3.5.3"
  }
 },
 "nbformat": 4,
 "nbformat_minor": 1
}
