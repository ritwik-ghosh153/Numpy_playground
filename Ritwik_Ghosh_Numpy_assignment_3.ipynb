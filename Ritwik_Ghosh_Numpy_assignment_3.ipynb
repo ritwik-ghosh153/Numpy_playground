{
  "nbformat": 4,
  "nbformat_minor": 0,
  "metadata": {
    "colab": {
      "name": "Ritwik Ghosh - Numpy-assignment-3.ipynb",
      "provenance": [],
      "collapsed_sections": [],
      "include_colab_link": true
    },
    "kernelspec": {
      "name": "python3",
      "display_name": "Python 3"
    }
  },
  "cells": [
    {
      "cell_type": "markdown",
      "metadata": {
        "id": "view-in-github",
        "colab_type": "text"
      },
      "source": [
        "<a href=\"https://colab.research.google.com/github/ritwik-ghosh153/Numpy_playground/blob/master/Ritwik_Ghosh_Numpy_assignment_3.ipynb\" target=\"_parent\"><img src=\"https://colab.research.google.com/assets/colab-badge.svg\" alt=\"Open In Colab\"/></a>"
      ]
    },
    {
      "cell_type": "code",
      "metadata": {
        "id": "31UwBw0bR-7I",
        "colab_type": "code",
        "colab": {}
      },
      "source": [
        "import numpy as np"
      ],
      "execution_count": 0,
      "outputs": []
    },
    {
      "cell_type": "code",
      "metadata": {
        "id": "85it8RniSD1i",
        "colab_type": "code",
        "outputId": "f6bfa664-407e-4fb2-f4ba-e609095685e3",
        "colab": {
          "base_uri": "https://localhost:8080/",
          "height": 153
        }
      },
      "source": [
        "# Setup for questions 1 and 2\n",
        "arr1=np.arange(40).reshape(8,5)\n",
        "arr1"
      ],
      "execution_count": 0,
      "outputs": [
        {
          "output_type": "execute_result",
          "data": {
            "text/plain": [
              "array([[ 0,  1,  2,  3,  4],\n",
              "       [ 5,  6,  7,  8,  9],\n",
              "       [10, 11, 12, 13, 14],\n",
              "       [15, 16, 17, 18, 19],\n",
              "       [20, 21, 22, 23, 24],\n",
              "       [25, 26, 27, 28, 29],\n",
              "       [30, 31, 32, 33, 34],\n",
              "       [35, 36, 37, 38, 39]])"
            ]
          },
          "metadata": {
            "tags": []
          },
          "execution_count": 5
        }
      ]
    },
    {
      "cell_type": "code",
      "metadata": {
        "id": "0Nz1-qSdSOQ_",
        "colab_type": "code",
        "colab": {}
      },
      "source": [
        "# Q1. From arr1 you have to fetch out every alternate column starting from col1"
      ],
      "execution_count": 0,
      "outputs": []
    },
    {
      "cell_type": "code",
      "metadata": {
        "id": "Xppettz17Eha",
        "colab_type": "code",
        "outputId": "1eb749a3-fdad-4165-a3a4-f4f86421d8fd",
        "colab": {
          "base_uri": "https://localhost:8080/",
          "height": 68
        }
      },
      "source": [
        "i=0\n",
        "while i<arr1.shape[1]:\n",
        "    print(arr1[:,i])\n",
        "    i+=2"
      ],
      "execution_count": 0,
      "outputs": [
        {
          "output_type": "stream",
          "text": [
            "[ 0  5 10 15 20 25 30 35]\n",
            "[ 2  7 12 17 22 27 32 37]\n",
            "[ 4  9 14 19 24 29 34 39]\n"
          ],
          "name": "stdout"
        }
      ]
    },
    {
      "cell_type": "code",
      "metadata": {
        "id": "rwmohc2SScHo",
        "colab_type": "code",
        "colab": {}
      },
      "source": [
        "# Q2. From arr1 fetch an array which would contain {0,2,4} {15,17,19} and {30,32,34} "
      ],
      "execution_count": 0,
      "outputs": []
    },
    {
      "cell_type": "code",
      "metadata": {
        "id": "c9LbXhOz7kSg",
        "colab_type": "code",
        "colab": {}
      },
      "source": [
        "#This cell extracts every 3rd column of any given 2D array\n",
        "i=0\n",
        "b=np.empty(0,dtype=int)\n",
        "while i<arr1.shape[1]:\n",
        "    b=np.hstack((b,arr1[:,i]))\n",
        "    i+=2\n",
        "b=b.reshape(int((arr1.shape[1]+1)/2),arr1.shape[0])"
      ],
      "execution_count": 0,
      "outputs": []
    },
    {
      "cell_type": "code",
      "metadata": {
        "id": "aGBvwKGU7p80",
        "colab_type": "code",
        "outputId": "2413be0e-0b67-4d0b-8810-3a4c4f8414b8",
        "colab": {
          "base_uri": "https://localhost:8080/",
          "height": 68
        }
      },
      "source": [
        "#This cell extracts every 2nd row\n",
        "i=0\n",
        "c=np.array([],dtype=int)\n",
        "while i<b.shape[1]:\n",
        "    c=np.hstack((c,b[:,i]))\n",
        "    i+=3\n",
        "c=c.reshape(b.shape[0],int((b.shape[1]+1)/3))\n",
        "c"
      ],
      "execution_count": 0,
      "outputs": [
        {
          "output_type": "execute_result",
          "data": {
            "text/plain": [
              "array([[ 0,  2,  4],\n",
              "       [15, 17, 19],\n",
              "       [30, 32, 34]])"
            ]
          },
          "metadata": {
            "tags": []
          },
          "execution_count": 28
        }
      ]
    },
    {
      "cell_type": "code",
      "metadata": {
        "id": "r1gU_dQ4SsH7",
        "colab_type": "code",
        "outputId": "2d952597-a9dc-4d09-d4cb-51a5f7d19431",
        "colab": {
          "base_uri": "https://localhost:8080/",
          "height": 51
        }
      },
      "source": [
        "# Setup for question\n",
        "  \n",
        "# Generating a random numpy array of intergers ranging between 1 and 100\n",
        "\n",
        "arr2=np.random.randint(low=1, high=10000, size=10).reshape(2,5)\n",
        "arr2"
      ],
      "execution_count": 0,
      "outputs": [
        {
          "output_type": "execute_result",
          "data": {
            "text/plain": [
              "array([[2250, 8347, 3705, 7693, 2403],\n",
              "       [1086, 1977, 7433, 6133, 2738]])"
            ]
          },
          "metadata": {
            "tags": []
          },
          "execution_count": 29
        }
      ]
    },
    {
      "cell_type": "markdown",
      "metadata": {
        "id": "VL_SIR70U2So",
        "colab_type": "text"
      },
      "source": [
        " **Normalization** rescales the values into a range of [0,1]. This might be useful in some cases where all parameters need to have the same positive scale. You have to do this a lot in machine learning for eg you are working with 2 cols, one is total runs scored by a batsman(in the scale of 1000s), and the second is number of matches played by him(in the scale of 10s). The formula for normalization is given below\n",
        "\n",
        " Xchanged=(X−Xmin)/(Xmax−Xmin)"
      ]
    },
    {
      "cell_type": "code",
      "metadata": {
        "id": "TI_idHqkUz48",
        "colab_type": "code",
        "colab": {}
      },
      "source": [
        "# Q3. Write a code to normalize arr2."
      ],
      "execution_count": 0,
      "outputs": []
    },
    {
      "cell_type": "code",
      "metadata": {
        "id": "fb5yUsw08SRh",
        "colab_type": "code",
        "colab": {}
      },
      "source": [
        "def normalise(arr):\n",
        "    high=arr.flatten()[0]\n",
        "    low=high\n",
        "    new=np.array([])\n",
        "    for i in arr.flatten(): #finding the highest and the lowest values in the array\n",
        "        if high<i:\n",
        "            high=i\n",
        "        if low>i:\n",
        "            low=i\n",
        "    step=high-low\n",
        "    for i in arr.flatten():\n",
        "        new=np.append(new,(i-low)/step)\n",
        "    new=new.reshape(arr.shape)  #getting it back to the previous shape\n",
        "    return new"
      ],
      "execution_count": 0,
      "outputs": []
    },
    {
      "cell_type": "code",
      "metadata": {
        "id": "CdJrCx-e8Vag",
        "colab_type": "code",
        "outputId": "62ec66c9-ff3e-4a2d-dfe6-8f7618b95e91",
        "colab": {
          "base_uri": "https://localhost:8080/",
          "height": 51
        }
      },
      "source": [
        "normalise(arr2)"
      ],
      "execution_count": 0,
      "outputs": [
        {
          "output_type": "execute_result",
          "data": {
            "text/plain": [
              "array([[0.1603085 , 1.        , 0.36069412, 0.90992976, 0.18137998],\n",
              "       [0.        , 0.12271037, 0.87412202, 0.69508332, 0.22751687]])"
            ]
          },
          "metadata": {
            "tags": []
          },
          "execution_count": 40
        }
      ]
    },
    {
      "cell_type": "code",
      "metadata": {
        "id": "GXcTZro_VXd_",
        "colab_type": "code",
        "outputId": "c245806d-de36-4f70-b97e-606f2a205d58",
        "colab": {
          "base_uri": "https://localhost:8080/",
          "height": 34
        }
      },
      "source": [
        "np.percentile(arr1,25)"
      ],
      "execution_count": 0,
      "outputs": [
        {
          "output_type": "execute_result",
          "data": {
            "text/plain": [
              "9.75"
            ]
          },
          "metadata": {
            "tags": []
          },
          "execution_count": 19
        }
      ]
    },
    {
      "cell_type": "code",
      "metadata": {
        "id": "jzgUb2rxWTJ1",
        "colab_type": "code",
        "colab": {}
      },
      "source": [
        ""
      ],
      "execution_count": 0,
      "outputs": []
    },
    {
      "cell_type": "markdown",
      "metadata": {
        "id": "cAKDoNdmW473",
        "colab_type": "text"
      },
      "source": [
        "Missing values are a pain in the a**(sorry for language). But yes trust me."
      ]
    },
    {
      "cell_type": "code",
      "metadata": {
        "id": "SV9DLiXaWz9b",
        "colab_type": "code",
        "colab": {}
      },
      "source": [
        "# Q4. How would you check if your numpy array has some missing values?\n",
        "\n",
        "# Hint: Thoda research karo numpy me existing functions hai"
      ],
      "execution_count": 0,
      "outputs": []
    },
    {
      "cell_type": "code",
      "metadata": {
        "id": "yUPMzet98c2c",
        "colab_type": "code",
        "colab": {}
      },
      "source": [
        "def check_missing(a_missing):\n",
        "    flag=np.isnan(a_missing).any()\n",
        "    if flag:\n",
        "        print(\"Array has missing values\")\n",
        "    else:\n",
        "        print(\"Array has no missing values\")"
      ],
      "execution_count": 0,
      "outputs": []
    },
    {
      "cell_type": "code",
      "metadata": {
        "id": "5tqx2CNe80vG",
        "colab_type": "code",
        "outputId": "70efbe92-16d2-402e-b48e-bb5d879ff7f1",
        "colab": {
          "base_uri": "https://localhost:8080/",
          "height": 34
        }
      },
      "source": [
        "a_missing=np.array([1,2,3,4,4,5,np.nan])\n",
        "a_missing"
      ],
      "execution_count": 0,
      "outputs": [
        {
          "output_type": "execute_result",
          "data": {
            "text/plain": [
              "array([ 1.,  2.,  3.,  4.,  4.,  5., nan])"
            ]
          },
          "metadata": {
            "tags": []
          },
          "execution_count": 34
        }
      ]
    },
    {
      "cell_type": "code",
      "metadata": {
        "id": "G5jFA0Y283iM",
        "colab_type": "code",
        "outputId": "f99daf5a-48f7-490e-e280-a4b327c01f4a",
        "colab": {
          "base_uri": "https://localhost:8080/",
          "height": 34
        }
      },
      "source": [
        "check_missing(a_missing)"
      ],
      "execution_count": 0,
      "outputs": [
        {
          "output_type": "stream",
          "text": [
            "Array has missing values\n"
          ],
          "name": "stdout"
        }
      ]
    },
    {
      "cell_type": "code",
      "metadata": {
        "id": "WWo9EXndXLrP",
        "colab_type": "code",
        "colab": {}
      },
      "source": [
        "# Q5. Write a function which will accept 2 arguments.\n",
        "# First: A 1D numpy array arr\n",
        "# Second: An integer n {Please make sure n<=len(arr)}\n",
        "\n",
        "# Output: The output should be the nth largest item out of the array\n",
        "\n",
        "# Example1 : arr=(12,34,40,7,1,0) and n=3, the output should be 12\n",
        "# Example2 : arr=(12,34,40,7,1,0) and n=1, the output should be 40"
      ],
      "execution_count": 0,
      "outputs": []
    },
    {
      "cell_type": "code",
      "metadata": {
        "id": "aOeEUd1LYRIF",
        "colab_type": "code",
        "colab": {}
      },
      "source": [
        "def nth(arr, n):\n",
        "    if(n>len(arr) or n<1):\n",
        "        print(\"There is no largest element with rank\",n)\n",
        "        return\n",
        "    g=arr[0]  #variable for greatest element of the required rank\n",
        "    b=g\n",
        "    low=arr[0]\n",
        "    for i in arr:\n",
        "        if b<i:\n",
        "            b=i\n",
        "        if low>i:\n",
        "            low=i\n",
        "    if n==1:\n",
        "        print(b)\n",
        "    else:\n",
        "        while n!=1:\n",
        "            g=low\n",
        "            for i in arr:\n",
        "                if g<i and i<b:\n",
        "                    g=i\n",
        "            n-=1\n",
        "            b=g\n",
        "        print(g)"
      ],
      "execution_count": 0,
      "outputs": []
    },
    {
      "cell_type": "code",
      "metadata": {
        "id": "hpeYnXkT9G5Q",
        "colab_type": "code",
        "outputId": "ab2652a4-0db7-4119-fe90-65cd4c863c0a",
        "colab": {
          "base_uri": "https://localhost:8080/",
          "height": 85
        }
      },
      "source": [
        "arr=np.array([12,34,40,7,1,0])\n",
        "nth(arr,3)\n",
        "nth(arr,1)\n",
        "nth(arr,15)\n",
        "nth(arr,-4)"
      ],
      "execution_count": 0,
      "outputs": [
        {
          "output_type": "stream",
          "text": [
            "12\n",
            "40\n",
            "There is no largest element with rank 15\n",
            "There is no largest element with rank -4\n"
          ],
          "name": "stdout"
        }
      ]
    },
    {
      "cell_type": "code",
      "metadata": {
        "id": "oHUCtRgY9L1G",
        "colab_type": "code",
        "colab": {}
      },
      "source": [
        ""
      ],
      "execution_count": 0,
      "outputs": []
    }
  ]
}