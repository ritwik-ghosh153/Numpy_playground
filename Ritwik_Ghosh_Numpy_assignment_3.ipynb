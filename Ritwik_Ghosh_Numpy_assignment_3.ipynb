{
 "cells": [
  {
   "cell_type": "code",
   "execution_count": 4,
   "metadata": {
    "colab": {},
    "colab_type": "code",
    "collapsed": true,
    "id": "31UwBw0bR-7I"
   },
   "outputs": [],
   "source": [
    "import numpy as np"
   ]
  },
  {
   "cell_type": "code",
   "execution_count": 5,
   "metadata": {
    "colab": {
     "base_uri": "https://localhost:8080/",
     "height": 153
    },
    "colab_type": "code",
    "id": "85it8RniSD1i",
    "outputId": "28fc878e-d105-4b4b-dcdd-bd0a68a8dbcf"
   },
   "outputs": [
    {
     "data": {
      "text/plain": [
       "array([[ 0,  1,  2,  3,  4],\n",
       "       [ 5,  6,  7,  8,  9],\n",
       "       [10, 11, 12, 13, 14],\n",
       "       [15, 16, 17, 18, 19],\n",
       "       [20, 21, 22, 23, 24],\n",
       "       [25, 26, 27, 28, 29],\n",
       "       [30, 31, 32, 33, 34],\n",
       "       [35, 36, 37, 38, 39]])"
      ]
     },
     "execution_count": 5,
     "metadata": {},
     "output_type": "execute_result"
    }
   ],
   "source": [
    "# Setup for questions 1 and 2\n",
    "arr1=np.arange(40).reshape(8,5)\n",
    "arr1"
   ]
  },
  {
   "cell_type": "code",
   "execution_count": 6,
   "metadata": {
    "colab": {},
    "colab_type": "code",
    "collapsed": true,
    "id": "0Nz1-qSdSOQ_"
   },
   "outputs": [],
   "source": [
    "# Q1. From arr1 you have to fetch out every alternate column starting from col1"
   ]
  },
  {
   "cell_type": "code",
   "execution_count": 7,
   "metadata": {
    "colab": {
     "base_uri": "https://localhost:8080/",
     "height": 153
    },
    "colab_type": "code",
    "id": "Xppettz17Eha",
    "outputId": "d808dc09-7eb8-4b71-9ded-c0ad1f2075c4"
   },
   "outputs": [
    {
     "data": {
      "text/plain": [
       "array([[ 0,  2,  4],\n",
       "       [ 5,  7,  9],\n",
       "       [10, 12, 14],\n",
       "       [15, 17, 19],\n",
       "       [20, 22, 24],\n",
       "       [25, 27, 29],\n",
       "       [30, 32, 34],\n",
       "       [35, 37, 39]])"
      ]
     },
     "execution_count": 7,
     "metadata": {},
     "output_type": "execute_result"
    }
   ],
   "source": [
    "i=list(range(0,arr1.shape[1],2))\n",
    "arr1[:,i]"
   ]
  },
  {
   "cell_type": "code",
   "execution_count": 8,
   "metadata": {
    "colab": {},
    "colab_type": "code",
    "collapsed": true,
    "id": "rwmohc2SScHo"
   },
   "outputs": [],
   "source": [
    "# Q2. From arr1 fetch an array which would contain {0,2,4} {15,17,19} and {30,32,34} "
   ]
  },
  {
   "cell_type": "code",
   "execution_count": 10,
   "metadata": {
    "colab": {
     "base_uri": "https://localhost:8080/",
     "height": 68
    },
    "colab_type": "code",
    "id": "JJaXgCUp8HdW",
    "outputId": "dc6a4ebb-fa0d-4b70-a670-c05ab54b37c9"
   },
   "outputs": [
    {
     "data": {
      "text/plain": [
       "array([ 0, 17, 34])"
      ]
     },
     "execution_count": 10,
     "metadata": {},
     "output_type": "execute_result"
    }
   ],
   "source": [
    "i=list(range(0,arr1.shape[0],3))\n",
    "j=list(range(0,arr1.shape[1],2))\n",
    "arr1[i][:,j]"
   ]
  },
  {
   "cell_type": "code",
   "execution_count": 7,
   "metadata": {
    "colab": {
     "base_uri": "https://localhost:8080/",
     "height": 51
    },
    "colab_type": "code",
    "id": "r1gU_dQ4SsH7",
    "outputId": "76e4fc65-1684-4e40-bc61-8ac22b9eb659"
   },
   "outputs": [
    {
     "data": {
      "text/plain": [
       "array([[2790, 8908, 1652, 2889, 1474],\n",
       "       [1579, 7303, 4010,  876, 6499]])"
      ]
     },
     "execution_count": 7,
     "metadata": {
      "tags": []
     },
     "output_type": "execute_result"
    }
   ],
   "source": [
    "# Setup for question\n",
    "  \n",
    "# Generating a random numpy array of intergers ranging between 1 and 100\n",
    "\n",
    "arr2=np.random.randint(low=1, high=10000, size=10).reshape(2,5)\n",
    "arr2"
   ]
  },
  {
   "cell_type": "markdown",
   "metadata": {
    "colab_type": "text",
    "id": "VL_SIR70U2So"
   },
   "source": [
    " **Normalization** rescales the values into a range of [0,1]. This might be useful in some cases where all parameters need to have the same positive scale. You have to do this a lot in machine learning for eg you are working with 2 cols, one is total runs scored by a batsman(in the scale of 1000s), and the second is number of matches played by him(in the scale of 10s). The formula for normalization is given below\n",
    "\n",
    " Xchanged=(X−Xmin)/(Xmax−Xmin)"
   ]
  },
  {
   "cell_type": "code",
   "execution_count": 0,
   "metadata": {
    "colab": {},
    "colab_type": "code",
    "collapsed": true,
    "id": "TI_idHqkUz48"
   },
   "outputs": [],
   "source": [
    "# Q3. Write a code to normalize arr2."
   ]
  },
  {
   "cell_type": "code",
   "execution_count": 0,
   "metadata": {
    "colab": {},
    "colab_type": "code",
    "collapsed": true,
    "id": "fb5yUsw08SRh"
   },
   "outputs": [],
   "source": [
    "def normalise(arr):\n",
    "    high=arr.flatten()[0]\n",
    "    low=high\n",
    "    new=np.array([])\n",
    "    for i in arr.flatten(): #finding the highest and the lowest values in the array\n",
    "        if high<i:\n",
    "            high=i\n",
    "        if low>i:\n",
    "            low=i\n",
    "    step=high-low\n",
    "    for i in arr.flatten():\n",
    "        new=np.append(new,(i-low)/step)\n",
    "    new=new.reshape(arr.shape)  #getting it back to the previous shape\n",
    "    return new"
   ]
  },
  {
   "cell_type": "code",
   "execution_count": 10,
   "metadata": {
    "colab": {
     "base_uri": "https://localhost:8080/",
     "height": 51
    },
    "colab_type": "code",
    "id": "CdJrCx-e8Vag",
    "outputId": "a3a779df-6612-4958-98b1-6290c1f45ce2"
   },
   "outputs": [
    {
     "data": {
      "text/plain": [
       "array([[0.23829681, 1.        , 0.09661355, 0.25062251, 0.07445219],\n",
       "       [0.0875249 , 0.8001743 , 0.39018924, 0.        , 0.7000747 ]])"
      ]
     },
     "execution_count": 10,
     "metadata": {
      "tags": []
     },
     "output_type": "execute_result"
    }
   ],
   "source": [
    "normalise(arr2)"
   ]
  },
  {
   "cell_type": "code",
   "execution_count": 11,
   "metadata": {
    "colab": {
     "base_uri": "https://localhost:8080/",
     "height": 34
    },
    "colab_type": "code",
    "id": "GXcTZro_VXd_",
    "outputId": "5ad7505e-83f9-48b8-c49d-3037a3b9e3f7"
   },
   "outputs": [
    {
     "data": {
      "text/plain": [
       "9.75"
      ]
     },
     "execution_count": 11,
     "metadata": {
      "tags": []
     },
     "output_type": "execute_result"
    }
   ],
   "source": [
    "np.percentile(arr1,25)"
   ]
  },
  {
   "cell_type": "code",
   "execution_count": 0,
   "metadata": {
    "colab": {},
    "colab_type": "code",
    "collapsed": true,
    "id": "jzgUb2rxWTJ1"
   },
   "outputs": [],
   "source": []
  },
  {
   "cell_type": "markdown",
   "metadata": {
    "colab_type": "text",
    "id": "cAKDoNdmW473"
   },
   "source": [
    "Missing values are a pain in the a**(sorry for language). But yes trust me."
   ]
  },
  {
   "cell_type": "code",
   "execution_count": 0,
   "metadata": {
    "colab": {},
    "colab_type": "code",
    "collapsed": true,
    "id": "SV9DLiXaWz9b"
   },
   "outputs": [],
   "source": [
    "# Q4. How would you check if your numpy array has some missing values?\n",
    "\n",
    "# Hint: Thoda research karo numpy me existing functions hai"
   ]
  },
  {
   "cell_type": "code",
   "execution_count": 0,
   "metadata": {
    "colab": {},
    "colab_type": "code",
    "collapsed": true,
    "id": "yUPMzet98c2c"
   },
   "outputs": [],
   "source": [
    "def check_missing(a_missing):\n",
    "    flag=np.isnan(a_missing).any()\n",
    "    if flag:\n",
    "        print(\"Array has missing values\")\n",
    "    else:\n",
    "        print(\"Array has no missing values\")"
   ]
  },
  {
   "cell_type": "code",
   "execution_count": 14,
   "metadata": {
    "colab": {
     "base_uri": "https://localhost:8080/",
     "height": 34
    },
    "colab_type": "code",
    "id": "5tqx2CNe80vG",
    "outputId": "fe45d93b-5ac4-4ee5-d100-1ac3917cc29c"
   },
   "outputs": [
    {
     "data": {
      "text/plain": [
       "array([ 1.,  2.,  3.,  4.,  4.,  5., nan])"
      ]
     },
     "execution_count": 14,
     "metadata": {
      "tags": []
     },
     "output_type": "execute_result"
    }
   ],
   "source": [
    "a_missing=np.array([1,2,3,4,4,5,np.nan])\n",
    "a_missing"
   ]
  },
  {
   "cell_type": "code",
   "execution_count": 15,
   "metadata": {
    "colab": {
     "base_uri": "https://localhost:8080/",
     "height": 34
    },
    "colab_type": "code",
    "id": "G5jFA0Y283iM",
    "outputId": "5e2538f2-e1f1-4cd6-823a-ddf7c44ee9ad"
   },
   "outputs": [
    {
     "name": "stdout",
     "output_type": "stream",
     "text": [
      "Array has missing values\n"
     ]
    }
   ],
   "source": [
    "check_missing(a_missing)"
   ]
  },
  {
   "cell_type": "code",
   "execution_count": 0,
   "metadata": {
    "colab": {},
    "colab_type": "code",
    "collapsed": true,
    "id": "WWo9EXndXLrP"
   },
   "outputs": [],
   "source": [
    "# Q5. Write a function which will accept 2 arguments.\n",
    "# First: A 1D numpy array arr\n",
    "# Second: An integer n {Please make sure n<=len(arr)}\n",
    "\n",
    "# Output: The output should be the nth largest item out of the array\n",
    "\n",
    "# Example1 : arr=(12,34,40,7,1,0) and n=3, the output should be 12\n",
    "# Example2 : arr=(12,34,40,7,1,0) and n=1, the output should be 40"
   ]
  },
  {
   "cell_type": "code",
   "execution_count": 0,
   "metadata": {
    "colab": {},
    "colab_type": "code",
    "collapsed": true,
    "id": "aOeEUd1LYRIF"
   },
   "outputs": [],
   "source": [
    "def nth(arr, n):\n",
    "    if(n>len(arr) or n<1):\n",
    "        print(\"There is no largest element with rank\",n)\n",
    "        return\n",
    "    g=arr[0]  #variable for greatest element of the required rank\n",
    "    b=g\n",
    "    low=arr[0]\n",
    "    for i in arr:\n",
    "        if b<i:\n",
    "            b=i\n",
    "        if low>i:\n",
    "            low=i\n",
    "    if n==1:\n",
    "        print(b)\n",
    "    else:\n",
    "        while n!=1:\n",
    "            g=low\n",
    "            for i in arr:\n",
    "                if g<i and i<b:\n",
    "                    g=i\n",
    "            n-=1\n",
    "            b=g\n",
    "        print(g)"
   ]
  },
  {
   "cell_type": "code",
   "execution_count": 18,
   "metadata": {
    "colab": {
     "base_uri": "https://localhost:8080/",
     "height": 85
    },
    "colab_type": "code",
    "id": "hpeYnXkT9G5Q",
    "outputId": "e7beedb5-4e8b-4893-e409-4b75429bb935"
   },
   "outputs": [
    {
     "name": "stdout",
     "output_type": "stream",
     "text": [
      "12\n",
      "40\n",
      "There is no largest element with rank 15\n",
      "There is no largest element with rank -4\n"
     ]
    }
   ],
   "source": [
    "arr=np.array([12,34,40,7,1,0])\n",
    "nth(arr,3)\n",
    "nth(arr,1)\n",
    "nth(arr,15)\n",
    "nth(arr,-4)"
   ]
  },
  {
   "cell_type": "code",
   "execution_count": 0,
   "metadata": {
    "colab": {},
    "colab_type": "code",
    "collapsed": true,
    "id": "oHUCtRgY9L1G"
   },
   "outputs": [],
   "source": []
  }
 ],
 "metadata": {
  "colab": {
   "collapsed_sections": [],
   "name": "Ritwik Ghosh - Numpy-assignment-3.ipynb",
   "provenance": []
  },
  "kernelspec": {
   "display_name": "Python [default]",
   "language": "python",
   "name": "python3"
  },
  "language_info": {
   "codemirror_mode": {
    "name": "ipython",
    "version": 3
   },
   "file_extension": ".py",
   "mimetype": "text/x-python",
   "name": "python",
   "nbconvert_exporter": "python",
   "pygments_lexer": "ipython3",
   "version": "3.5.3"
  }
 },
 "nbformat": 4,
 "nbformat_minor": 1
}
