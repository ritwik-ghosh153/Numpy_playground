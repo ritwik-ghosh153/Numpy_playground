{
 "cells": [
  {
   "cell_type": "code",
   "execution_count": 1,
   "metadata": {
    "colab": {},
    "colab_type": "code",
    "collapsed": true,
    "id": "LYAs5f4MUyqX"
   },
   "outputs": [],
   "source": [
    "import numpy as np"
   ]
  },
  {
   "cell_type": "code",
   "execution_count": 2,
   "metadata": {
    "colab": {
     "base_uri": "https://localhost:8080/",
     "height": 85
    },
    "colab_type": "code",
    "id": "kith96zaU3v4",
    "outputId": "5aad80be-e6dd-49fa-ca20-d4fb7e73f0e2"
   },
   "outputs": [
    {
     "data": {
      "text/plain": [
       "array([[ 0,  1,  2,  3,  4],\n",
       "       [ 5,  6,  7,  8,  9],\n",
       "       [10, 11, 12, 13, 14],\n",
       "       [15, 16, 17, 18, 19]])"
      ]
     },
     "execution_count": 2,
     "metadata": {},
     "output_type": "execute_result"
    }
   ],
   "source": [
    "arr1=np.arange(20).reshape(4,5)\n",
    "arr1"
   ]
  },
  {
   "cell_type": "code",
   "execution_count": 3,
   "metadata": {
    "colab": {},
    "colab_type": "code",
    "collapsed": true,
    "id": "hSQuEs7WVpXk"
   },
   "outputs": [],
   "source": [
    "# Q1 Write a numpy code to swap col1([0,5,10,15]) with col4([3,8,13,18])\n",
    "# Hint----> Fancy Indexing"
   ]
  },
  {
   "cell_type": "code",
   "execution_count": 4,
   "metadata": {
    "colab": {
     "base_uri": "https://localhost:8080/",
     "height": 85
    },
    "colab_type": "code",
    "id": "tSxorfip5bAe",
    "outputId": "b61ccd17-75db-4cae-8cec-33cacbc39232"
   },
   "outputs": [
    {
     "data": {
      "text/plain": [
       "array([[ 3,  1,  2,  0,  4],\n",
       "       [ 8,  6,  7,  5,  9],\n",
       "       [13, 11, 12, 10, 14],\n",
       "       [18, 16, 17, 15, 19]])"
      ]
     },
     "execution_count": 4,
     "metadata": {},
     "output_type": "execute_result"
    }
   ],
   "source": [
    "t=np.copy(arr1[:,0])\n",
    "arr1[:,0]=arr1[:,3]\n",
    "arr1[:,3]=t\n",
    "arr1"
   ]
  },
  {
   "cell_type": "code",
   "execution_count": 5,
   "metadata": {
    "colab": {},
    "colab_type": "code",
    "collapsed": true,
    "id": "qzrMoxJSWOEm"
   },
   "outputs": [],
   "source": [
    "# Q2 Write a numpy code to reverse the rows of arr1\n",
    "# The output should be [15, 16, 17, 18, 19] as first row and [ 0,  1,  2,  3,  4] as last row"
   ]
  },
  {
   "cell_type": "code",
   "execution_count": 6,
   "metadata": {
    "colab": {
     "base_uri": "https://localhost:8080/",
     "height": 85
    },
    "colab_type": "code",
    "id": "DuT5M88G7Ukr",
    "outputId": "9f5df5a5-db92-4cf9-95af-a671663b16b8"
   },
   "outputs": [
    {
     "data": {
      "text/plain": [
       "array([[18, 16, 17, 15, 19],\n",
       "       [13, 11, 12, 10, 14],\n",
       "       [ 8,  6,  7,  5,  9],\n",
       "       [ 3,  1,  2,  0,  4]])"
      ]
     },
     "execution_count": 6,
     "metadata": {},
     "output_type": "execute_result"
    }
   ],
   "source": [
    "i=list(range(len(arr1)-1,-1,-1))\n",
    "arr1=arr1[i]\n",
    "arr1"
   ]
  },
  {
   "cell_type": "code",
   "execution_count": 7,
   "metadata": {
    "colab": {
     "base_uri": "https://localhost:8080/",
     "height": 68
    },
    "colab_type": "code",
    "id": "qU9DW6vQWivF",
    "outputId": "99d24dcc-e182-4a8a-8915-6c48a49bfe05"
   },
   "outputs": [
    {
     "data": {
      "text/plain": [
       "array([[  1.,   2.,  nan],\n",
       "       [  4.,   5.,   6.],\n",
       "       [ nan,  nan,   9.]])"
      ]
     },
     "execution_count": 7,
     "metadata": {},
     "output_type": "execute_result"
    }
   ],
   "source": [
    "arr2=np.array([[1,2,np.nan],[4,5,6],[np.nan,np.nan,9]])\n",
    "arr2"
   ]
  },
  {
   "cell_type": "code",
   "execution_count": 8,
   "metadata": {
    "colab": {},
    "colab_type": "code",
    "collapsed": true,
    "id": "V9pLugRlXZCV"
   },
   "outputs": [],
   "source": [
    "# Q3 Write a code to replace all the nan(missing values) of arr2 with the mean of arr2"
   ]
  },
  {
   "cell_type": "code",
   "execution_count": 9,
   "metadata": {
    "colab": {
     "base_uri": "https://localhost:8080/",
     "height": 68
    },
    "colab_type": "code",
    "id": "knJAs4QVsS2K",
    "outputId": "68909658-3d0a-4284-a4a8-03a3a1f5018c"
   },
   "outputs": [
    {
     "data": {
      "text/plain": [
       "array([[ 1. ,  2. ,  4.5],\n",
       "       [ 4. ,  5. ,  6. ],\n",
       "       [ 4.5,  4.5,  9. ]])"
      ]
     },
     "execution_count": 9,
     "metadata": {},
     "output_type": "execute_result"
    }
   ],
   "source": [
    "mean=np.nanmean(arr2)\n",
    "i=np.where(np.isnan(arr2))\n",
    "arr2[i]=mean\n",
    "arr2"
   ]
  },
  {
   "cell_type": "code",
   "execution_count": 10,
   "metadata": {
    "colab": {
     "base_uri": "https://localhost:8080/",
     "height": 102
    },
    "colab_type": "code",
    "id": "F3tUsOivZ6Wf",
    "outputId": "0522258b-ee2e-48eb-e423-dbf1abdeacc7"
   },
   "outputs": [
    {
     "data": {
      "text/plain": [
       "array([[11, 60, 45, 50],\n",
       "       [78, 60, 37, 95],\n",
       "       [14, 32, 55, 83],\n",
       "       [ 5,  9, 74, 59],\n",
       "       [78, 35, 69, 89]])"
      ]
     },
     "execution_count": 10,
     "metadata": {},
     "output_type": "execute_result"
    }
   ],
   "source": [
    "arr3=np.random.randint(low=1,high=100,size=20).reshape(5,4)\n",
    "arr3"
   ]
  },
  {
   "cell_type": "code",
   "execution_count": 11,
   "metadata": {
    "colab": {},
    "colab_type": "code",
    "collapsed": true,
    "id": "HzeC03N6aQpx"
   },
   "outputs": [],
   "source": [
    "# Q4 Write a code which can fetch all items from arr3 which are either greater than 25 or a multiple of 3"
   ]
  },
  {
   "cell_type": "code",
   "execution_count": 12,
   "metadata": {
    "colab": {
     "base_uri": "https://localhost:8080/",
     "height": 34
    },
    "colab_type": "code",
    "id": "EgDmVN_bsPWZ",
    "outputId": "c05f7d48-996d-4c8f-cf20-403e38228131"
   },
   "outputs": [
    {
     "data": {
      "text/plain": [
       "array([60, 45, 50, 78, 60, 37, 95, 32, 55, 83,  9, 74, 59, 78, 35, 69, 89])"
      ]
     },
     "execution_count": 12,
     "metadata": {},
     "output_type": "execute_result"
    }
   ],
   "source": [
    "i=np.where((arr3>25) | (arr3%3==0))\n",
    "arr3[i]"
   ]
  },
  {
   "cell_type": "code",
   "execution_count": 13,
   "metadata": {
    "colab": {},
    "colab_type": "code",
    "collapsed": true,
    "id": "PxcxU2ACa9Ri"
   },
   "outputs": [],
   "source": [
    "# Q5 Write a code to find the 10th, 25th, 50th(median) percentile of arr3\n",
    "# Percentiles are a very important concept in Statistics. If you don't know about it refer the video below\n",
    "# https://www.youtube.com/watch?v=Snf6Wpn-L4c\n",
    "# Hint: to solve this function google np.percentile()"
   ]
  },
  {
   "cell_type": "code",
   "execution_count": 14,
   "metadata": {
    "colab": {
     "base_uri": "https://localhost:8080/",
     "height": 68
    },
    "colab_type": "code",
    "id": "_8moTHWYcDCt",
    "outputId": "91445cd4-00ba-41ab-f3bf-1388c2fe2a2d"
   },
   "outputs": [
    {
     "name": "stdout",
     "output_type": "stream",
     "text": [
      "10th percentile of arr3= 10.8\n",
      "25th percentile of arr3= 34.25\n",
      "50th percentile of arr3= 57.0\n"
     ]
    }
   ],
   "source": [
    "print(\"10th percentile of arr3=\",np.percentile(arr3,10))\n",
    "print(\"25th percentile of arr3=\",np.percentile(arr3,25))\n",
    "print(\"50th percentile of arr3=\",np.percentile(arr3,50))"
   ]
  },
  {
   "cell_type": "code",
   "execution_count": 0,
   "metadata": {
    "colab": {},
    "colab_type": "code",
    "collapsed": true,
    "id": "p3B4lL4Lm56y"
   },
   "outputs": [],
   "source": []
  }
 ],
 "metadata": {
  "colab": {
   "name": "numpy-assignment-4.ipynb",
   "provenance": []
  },
  "kernelspec": {
   "display_name": "Python [default]",
   "language": "python",
   "name": "python3"
  },
  "language_info": {
   "codemirror_mode": {
    "name": "ipython",
    "version": 3
   },
   "file_extension": ".py",
   "mimetype": "text/x-python",
   "name": "python",
   "nbconvert_exporter": "python",
   "pygments_lexer": "ipython3",
   "version": "3.5.3"
  }
 },
 "nbformat": 4,
 "nbformat_minor": 1
}
